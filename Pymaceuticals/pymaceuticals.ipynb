{
 "cells": [
  {
   "cell_type": "markdown",
   "metadata": {},
   "source": [
    "## Observations and Insights"
   ]
  },
  {
   "cell_type": "markdown",
   "metadata": {},
   "source": [
    "Observations of the data:\n",
    "The goal of this analysis is to know the influence of certain treatments in cancer studies. So, to understand if the treatment is working, the decrease of tumor volume is analyzed. Also, other factors that could makes it to increase or decrease are analyzed.\n",
    "a) The gender distribution used is equal to compare if gender is a factor of tumor volume. \n",
    "b) There were ten different treatments for these studies. Only two were the most effective in reducing the tumor volume, according to the box plot of four regimes. \n",
    "c) The number of days and tumor volume plot helps to know the efficiency of the treatment or if there is a rejection.\n",
    "d) The final plot helps to understand if there is a relationship between tumor volume and weight. There is a relationship."
   ]
  },
  {
   "cell_type": "markdown",
   "metadata": {},
   "source": [
    "## Dependencies and starter code"
   ]
  },
  {
   "cell_type": "code",
   "execution_count": null,
   "metadata": {},
   "outputs": [],
   "source": [
    "%matplotlib notebook\n",
    "\n",
    "# Dependencies and Setup\n",
    "import matplotlib.pyplot as plt\n",
    "import pandas as pd\n",
    "import scipy.stats \n",
    "import numpy as np\n",
    "\n",
    "# Study data files\n",
    "mouse_metadata = \"Mouse_metadata.csv\"\n",
    "study_results = \"Study_results.csv\"\n",
    "\n",
    "# Read the mouse data and the study results\n",
    "mouse_metadata = pd.read_csv(mouse_metadata)\n",
    "study_results = pd.read_csv(study_results)\n",
    "\n",
    "# Combine the data into a single dataset\n",
    "mouse_data = pd.merge(mouse_metadata, study_results, on=\"Mouse ID\")\n",
    "mouse_data"
   ]
  },
  {
   "cell_type": "markdown",
   "metadata": {},
   "source": [
    "## Summary statistics"
   ]
  },
  {
   "cell_type": "code",
   "execution_count": null,
   "metadata": {},
   "outputs": [],
   "source": [
    "# Generate a summary statistics table of mean, median, variance, standard deviation, and SEM of the tumor volume for each regimen\n",
    "mouse_stat = mouse_data.loc[:,[\"Tumor Volume (mm3)\", \"Drug Regimen\"]].groupby([\"Drug Regimen\"])\n",
    "mouse_stat.count().head()\n",
    "\n",
    "# Mean\n",
    "mouse_mean = mouse_stat[\"Tumor Volume (mm3)\"].mean()\n",
    "# Median\n",
    "mouse_median = mouse_stat[\"Tumor Volume (mm3)\"].median()\n",
    "# Variance\n",
    "mouse_variance = mouse_stat[\"Tumor Volume (mm3)\"].var()\n",
    "# Standard deviation\n",
    "mouse_stdev = mouse_stat[\"Tumor Volume (mm3)\"].std()\n",
    "# SEM (Standar Error of the Mean)\n",
    "mouse_sem = mouse_stat[\"Tumor Volume (mm3)\"].sem()\n",
    "\n",
    "# Summary\n",
    "stat_mouse_summary = pd.DataFrame({\"Mean Tumor Volume (mm3)\": mouse_mean, \"Median Tumor Volume (mm3)\": mouse_median,\n",
    "                                   \"Variance Tumor Volume (mm3)\": mouse_variance, \"St. Deviation Tumor Volume (mm3)\": mouse_stdev,\n",
    "                                  \"SEM Tumor Volume (mm2)\": mouse_sem})\n",
    "stat_mouse_summary"
   ]
  },
  {
   "cell_type": "markdown",
   "metadata": {},
   "source": [
    "## Bar plots"
   ]
  },
  {
   "cell_type": "code",
   "execution_count": null,
   "metadata": {},
   "outputs": [],
   "source": [
    "# Generate a bar plot showing number of data points for each treatment regimen using pandas\n",
    "# Mouse data per regimen\n",
    "mouse_regimen = mouse_data.loc[:,[\"Mouse ID\",\"Drug Regimen\"]].groupby([\"Drug Regimen\"])\n",
    "# Total data points\n",
    "count_mouse_regimen = mouse_regimen[\"Mouse ID\"].count().sort_values(ascending=False)\n",
    "# Bar graph\n",
    "bar_plot = count_mouse_regimen.plot(kind=\"bar\", color=(0.1,0.1,0.1,0.1), edgecolor='purple', title=(\"Data Points per Drug Regimen\"))\n",
    "bar_plot.set_ylabel(\"Number of Data Points\")"
   ]
  },
  {
   "cell_type": "code",
   "execution_count": null,
   "metadata": {},
   "outputs": [],
   "source": [
    "# Generate a bar plot showing number of data points for each treatment regimen using pyplot\n",
    "# Using previous data\n",
    "x_axis = np.arange(len(count_mouse_regimen))\n",
    "tick_locations = [value for value in x_axis]\n",
    "plt.bar(x_axis, count_mouse_regimen, color=\"purple\", alpha=0.4, edgecolor='black')\n",
    "plt.xticks(tick_locations, count_mouse_regimen.keys(), rotation=\"vertical\")\n",
    "plt.title(\"Data Points for each Treatment Regimen\")\n",
    "plt.xlabel(\"Drug Regimen\")\n",
    "plt.ylabel(\"Number of Data Points\")"
   ]
  },
  {
   "cell_type": "markdown",
   "metadata": {},
   "source": [
    "## Pie plots"
   ]
  },
  {
   "cell_type": "code",
   "execution_count": null,
   "metadata": {},
   "outputs": [],
   "source": [
    "# Generate a pie plot showing the distribution of female versus male mice using pandas\n",
    "# Mouse data by gender\n",
    "mouse_gender = mouse_data.loc[:,[\"Sex\", \"Mouse ID\"]].groupby([\"Sex\"])\n",
    "# Total values\n",
    "count_mouse_gender = mouse_gender[\"Sex\"].count()\n",
    "# Pie plot\n",
    "fig,ax1 = plt.subplots()\n",
    "count_mouse_gender.plot(kind=\"pie\", y=count_mouse_gender, autopct='%1.1f%%', colors=[\"lightyellow\",\"lavender\"],\n",
    "                       explode=(0.1,0),shadow=True, title=(\"Gender Distribution\"), startangle=140)"
   ]
  },
  {
   "cell_type": "code",
   "execution_count": null,
   "metadata": {},
   "outputs": [],
   "source": [
    "# Generate a pie plot showing the distribution of female versus male mice using pyplot\n",
    "# With previous data\n",
    "plt.pie(count_mouse_gender, labels=[\"Female\",\"Male\"], colors=[\"thistle\", \"lightsteelblue\"],\n",
    "        explode=(0.1,0), autopct=\"%1.1f%%\", shadow=True, startangle=140)\n",
    "plt.title(\"Gender Distribution\")"
   ]
  },
  {
   "cell_type": "markdown",
   "metadata": {},
   "source": [
    "## Quartiles, outliers and boxplots"
   ]
  },
  {
   "cell_type": "code",
   "execution_count": null,
   "metadata": {},
   "outputs": [],
   "source": [
    "# Calculate the final tumor volume of each mouse across four of the most promising treatment regimens. Calculate the IQR and quantitatively determine if there are any potential outliers.\n",
    "\n",
    "# Capomulin treatment IQR\n",
    "volume_capomulin = mouse_data.loc[mouse_data[\"Drug Regimen\"] == \"Capomulin\",:].groupby(\"Mouse ID\") \n",
    "total_volume_capomulin = volume_capomulin[\"Tumor Volume (mm3)\"].last()\n",
    "quartiles_cap = total_volume_capomulin.quantile([.25,.5,.75])\n",
    "#quartiles_cap\n",
    "lowercap = quartiles_cap[0.25]\n",
    "uppercap = quartiles_cap[0.75]\n",
    "iqr_cap = uppercap-lowercap\n",
    "print(f\"The lower quartile is: {lowercap}\")\n",
    "print(f\"The upper quartile is: {uppercap}\")\n",
    "print(f\"The interquartile range is: {iqr_cap}\")\n",
    "print(f\"The the median is: {quartiles_cap[0.5]} \") \n",
    "\n",
    "lower_bound_cap = lowercap - (1.5*iqr_cap)\n",
    "upper_bound_cap = uppercap + (1.5*iqr_cap)\n",
    "print(f\"Values below {lower_bound_cap} could be outliers.\")\n",
    "print(f\"Values above {upper_bound_cap} could be outliers.\")"
   ]
  },
  {
   "cell_type": "code",
   "execution_count": null,
   "metadata": {},
   "outputs": [],
   "source": [
    "# Ramicane treatment IQR\n",
    "volume_ramicane = mouse_data.loc[mouse_data[\"Drug Regimen\"] == \"Ramicane\",:].groupby(\"Mouse ID\") \n",
    "total_volume_ramicane = volume_ramicane[\"Tumor Volume (mm3)\"].last()\n",
    "quartiles_ram = total_volume_ramicane.quantile([.25,.5,.75])\n",
    "lowerram = quartiles_ram[0.25]\n",
    "upperram = quartiles_ram[0.75]\n",
    "iqr_ram = upperram-lowerram\n",
    "print(f\"The lower quartile is: {lowerram}\")\n",
    "print(f\"The upper quartile is: {upperram}\")\n",
    "print(f\"The interquartile range is: {iqr_ram}\")\n",
    "print(f\"The the median is: {quartiles_ram[0.5]} \") \n",
    "\n",
    "lower_bound_ram = lowerram - (1.5*iqr_ram)\n",
    "upper_bound_ram = upperram + (1.5*iqr_ram)\n",
    "print(f\"Values below {lower_bound_ram} could be outliers.\")\n",
    "print(f\"Values above {upper_bound_ram} could be outliers.\")"
   ]
  },
  {
   "cell_type": "code",
   "execution_count": null,
   "metadata": {},
   "outputs": [],
   "source": [
    "# Infubinol treatment IQR\n",
    "volume_infubinol = mouse_data.loc[mouse_data[\"Drug Regimen\"] == \"Infubinol\",:].groupby(\"Mouse ID\")\n",
    "total_volume_infubinol = volume_infubinol[\"Tumor Volume (mm3)\"].last()\n",
    "quartiles_inf = total_volume_infubinol.quantile([.25,.5,.75])\n",
    "lowerinf = quartiles_inf[0.25]\n",
    "upperinf = quartiles_inf[0.75]\n",
    "iqr_inf = upperinf-lowerinf\n",
    "print(f\"The lower quartile is: {lowerinf}\")\n",
    "print(f\"The upper quartile is: {upperinf}\")\n",
    "print(f\"The interquartile range is: {iqr_inf}\")\n",
    "print(f\"The the median is: {quartiles_inf[0.5]} \") \n",
    "\n",
    "lower_bound_inf = lowerinf - (1.5*iqr_inf)\n",
    "upper_bound_inf = upperinf + (1.5*iqr_inf)\n",
    "print(f\"Values below {lower_bound_inf} could be outliers.\")\n",
    "print(f\"Values above {upper_bound_inf} could be outliers.\")"
   ]
  },
  {
   "cell_type": "code",
   "execution_count": null,
   "metadata": {},
   "outputs": [],
   "source": [
    "# Ceftamin treatmin IQR\n",
    "volume_ceftamin = mouse_data.loc[mouse_data[\"Drug Regimen\"] == \"Ceftamin\",:].groupby(\"Mouse ID\")\n",
    "total_volume_ceftamin = volume_ceftamin[\"Tumor Volume (mm3)\"].last()\n",
    "quartiles_cef = total_volume_ceftamin.quantile([.25,.5,.75])\n",
    "lowercef = quartiles_cef[0.25]\n",
    "uppercef = quartiles_cef[0.75]\n",
    "iqr_cef = uppercef-lowercef\n",
    "print(f\"The lower quartile is: {lowercef}\")\n",
    "print(f\"The upper quartile is: {uppercef}\")\n",
    "print(f\"The interquartile range is: {iqr_cef}\")\n",
    "print(f\"The the median is: {quartiles_cef[0.5]} \") \n",
    "\n",
    "lower_bound_cef = lowercef - (1.5*iqr_cef)\n",
    "upper_bound_cef = uppercef + (1.5*iqr_cef)\n",
    "print(f\"Values below {lower_bound_cef} could be outliers.\")\n",
    "print(f\"Values above {upper_bound_cef} could be outliers.\")"
   ]
  },
  {
   "cell_type": "code",
   "execution_count": null,
   "metadata": {},
   "outputs": [],
   "source": [
    "# Generate a box plot of the final tumor volume of each mouse across four regimens of interest\n",
    "fig,ax1 = plt.subplots()\n",
    "columns = [\"Capomulin\", \"Ramicane\", \"Infubinol\", \"Caftamin\"]\n",
    "regimenes = [total_volume_capomulin, total_volume_ramicane, total_volume_infubinol,total_volume_ceftamin]\n",
    "ax1.boxplot(regimenes, notch=True, sym='+')\n",
    "ax1.set_ylabel(\"Tumor Volume (mm3)\")\n",
    "plt.setp(ax1,xticklabels=columns)\n",
    "plt.title(\"Tumor Volume (mm3) for each Treatment Regimen\")\n",
    "plt.xlabel(\"Drug Regimen\")"
   ]
  },
  {
   "cell_type": "markdown",
   "metadata": {},
   "source": [
    "## Line and scatter plots"
   ]
  },
  {
   "cell_type": "code",
   "execution_count": null,
   "metadata": {},
   "outputs": [],
   "source": [
    "# Generate a line plot of time point versus tumor volume for a mouse treated with Capomulin\n",
    "# Volume data of one mouse\n",
    "onemouse_volume = volume_capomulin[\"Tumor Volume (mm3)\"].unique()\n",
    "one_data_volume = onemouse_volume.iloc[0:1] # Just first row data\n",
    "#print(one_data_volume) # mouse b128\n",
    "onemouse_timepoint = volume_capomulin[\"Timepoint\"].unique()\n",
    "one_data_timepoint = onemouse_timepoint.iloc[0:1]\n",
    "#print(one_data_timepoint)\n",
    "# Line plot\n",
    "plt.plot(one_data_timepoint[0], one_data_volume[0], color=\"purple\")\n",
    "plt.xlabel(\"Timepoint (days)\")\n",
    "plt.ylabel(\"Tumor Volume (mm3)\")\n",
    "plt.title(\"Tumor Volume for Capomulin Treatment in mouse b128\")"
   ]
  },
  {
   "cell_type": "code",
   "execution_count": null,
   "metadata": {},
   "outputs": [],
   "source": [
    "# Generate a scatter plot of mouse weight versus average tumor volume for the Capomulin regimen\n",
    "# Average volume in Capomulin regimen\n",
    "avrg_volume_capomulin = volume_capomulin[\"Tumor Volume (mm3)\"].mean() \n",
    "# Mouse weight values in Capomulin regimen\n",
    "weight_data_capomulin = volume_capomulin[\"Weight (g)\"].unique() # Just the non repited weights\n",
    "# Scatter plot\n",
    "plt.scatter(weight_data_capomulin,avrg_volume_capomulin, marker='.', color='indigo')\n",
    "plt.xlabel(\"Weight (g)\")\n",
    "plt.ylabel(\"Average Tumor Volume (mm3)\")\n",
    "plt.title(\"Weight and Tumor Volume for Capomulin Regimen\")"
   ]
  },
  {
   "cell_type": "code",
   "execution_count": null,
   "metadata": {},
   "outputs": [],
   "source": [
    "# Calculate the correlation coefficient and linear regression model for mouse weight and average tumor volume for the Capomulin regimen\n",
    "# Using Pearson correlation\n",
    "tolist_weight = weight_data_capomulin.astype(float).values.tolist() # Does not accept Series type?\n",
    "tolist_volume = avrg_volume_capomulin.astype(float).values.tolist()\n",
    "r,p = scipy.stats.pearsonr(tolist_weight, tolist_volume)\n",
    "# Linear regression model\n",
    "mouse_slope, mouse_int, mouse_r, mouse_p, mouse_stder = scipy.stats.linregress(tolist_weight, tolist_volume)\n",
    "mouse_fit = mouse_slope * weight_data_capomulin + mouse_int # slope eq\n",
    "plt.scatter(weight_data_capomulin,avrg_volume_capomulin, marker='.',color='slateblue')\n",
    "plt.plot(weight_data_capomulin, mouse_fit, '-', color='goldenrod')\n",
    "plt.xlabel(\"Weight (g)\")\n",
    "plt.ylabel(\"Average Tumor Volume (mm3)\")\n",
    "plt.title(\"Linear Model for Capomulin Regimen\")"
   ]
  },
  {
   "cell_type": "code",
   "execution_count": null,
   "metadata": {},
   "outputs": [],
   "source": []
  }
 ],
 "metadata": {
  "anaconda-cloud": {},
  "kernelspec": {
   "display_name": "Python 3.7.4 64-bit ('base': conda)",
   "language": "python",
   "name": "python37464bitbasecondaf8a42dbeb68b43b8ab181bef94341f6a"
  },
  "language_info": {
   "codemirror_mode": {
    "name": "ipython",
    "version": 3
   },
   "file_extension": ".py",
   "mimetype": "text/x-python",
   "name": "python",
   "nbconvert_exporter": "python",
   "pygments_lexer": "ipython3",
   "version": "3.7.4"
  }
 },
 "nbformat": 4,
 "nbformat_minor": 2
}
